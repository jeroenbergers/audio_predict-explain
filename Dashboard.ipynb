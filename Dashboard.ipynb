{
 "cells": [
  {
   "cell_type": "code",
   "execution_count": null,
   "id": "e059d655",
   "metadata": {},
   "outputs": [],
   "source": [
    "import main\n",
    "import soundfile as sf\n",
    "import ipywidgets as widgets\n",
    "from IPython.display import display\n",
    "import io\n",
    "import warnings\n",
    "import prepare\n",
    "import IPython.display as ipd\n",
    "warnings.filterwarnings('ignore')"
   ]
  },
  {
   "cell_type": "markdown",
   "id": "1b581bfe",
   "metadata": {},
   "source": [
    "Upload the file (For widget upload node.js needed)"
   ]
  },
  {
   "cell_type": "code",
   "execution_count": null,
   "id": "98ab66e4",
   "metadata": {},
   "outputs": [],
   "source": [
    "uploader = widgets.FileUpload()\n",
    "uploader"
   ]
  },
  {
   "cell_type": "code",
   "execution_count": null,
   "id": "510dad0b",
   "metadata": {},
   "outputs": [],
   "source": [
    "for name, file_info in uploader.value.items():\n",
    "    sample,sr = sf.read(io.BytesIO(file_info['content']))\n",
    "sample, sr = prepare.tanspose_audio_fragments(sample, sr)"
   ]
  },
  {
   "cell_type": "markdown",
   "id": "7159c2a2",
   "metadata": {},
   "source": [
    "Upload file from location"
   ]
  },
  {
   "cell_type": "code",
   "execution_count": null,
   "id": "e160ff85",
   "metadata": {},
   "outputs": [],
   "source": [
    "database_path = './location/to/file/'\n",
    "sample. sr = sf.read(database_path) \n",
    "sample, sr = prepare.tanspose_audio_fragments(sample, sr)"
   ]
  },
  {
   "cell_type": "code",
   "execution_count": null,
   "id": "c9678b9a",
   "metadata": {},
   "outputs": [],
   "source": [
    "ipd.Audio(sample, rate = sr )"
   ]
  },
  {
   "cell_type": "markdown",
   "id": "e7819f04",
   "metadata": {},
   "source": [
    "Predict for the three neural networks:"
   ]
  },
  {
   "cell_type": "code",
   "execution_count": null,
   "id": "c6e1135a",
   "metadata": {},
   "outputs": [],
   "source": [
    "resnet1d_model, resnet2d_model, aasist_model, cqt, device, state1d, state2d, statea = main.predictions(sample, sr)"
   ]
  },
  {
   "cell_type": "markdown",
   "id": "8fdad581",
   "metadata": {},
   "source": [
    "Explainations for the predictions (takes some time, because of lime)\n",
    "Settings can be changed in the .py files. "
   ]
  },
  {
   "cell_type": "code",
   "execution_count": null,
   "id": "d4b4f8ee",
   "metadata": {
    "scrolled": false
   },
   "outputs": [],
   "source": [
    "main.explanations(resnet1d_model, resnet2d_model, aasist_model, cqt, device, sample, state1d, state2d, statea)"
   ]
  }
 ],
 "metadata": {
  "kernelspec": {
   "display_name": "Python 3 (ipykernel)",
   "language": "python",
   "name": "python3"
  },
  "language_info": {
   "codemirror_mode": {
    "name": "ipython",
    "version": 3
   },
   "file_extension": ".py",
   "mimetype": "text/x-python",
   "name": "python",
   "nbconvert_exporter": "python",
   "pygments_lexer": "ipython3",
   "version": "3.9.7"
  }
 },
 "nbformat": 4,
 "nbformat_minor": 5
}
