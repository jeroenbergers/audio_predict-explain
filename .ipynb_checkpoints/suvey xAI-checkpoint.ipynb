{
 "cells": [
  {
   "cell_type": "code",
   "execution_count": 1,
   "id": "e059d655",
   "metadata": {},
   "outputs": [],
   "source": [
    "import main\n",
    "import soundfile as sf\n",
    "import ipywidgets as widgets\n",
    "from IPython.display import display\n",
    "import io\n",
    "import warnings\n",
    "import prepare\n",
    "import SHAP\n",
    "import display\n",
    "import IPython.display as ipd\n",
    "import grad_cam\n",
    "import predict"
   ]
  },
  {
   "cell_type": "code",
   "execution_count": null,
   "id": "64dc821a",
   "metadata": {},
   "outputs": [],
   "source": [
    "weights_1d_resnet = \"/time_frame_149_1d-resnet_Loss_0.0003_dEER_0.81%_eEER_0.76%.pth\"\n",
    "weights_2d_resnet = \"/cqt_23_2d-resnet_Loss_0.004_dEER_0.77%_eEER_0.89%.pth\"\n",
    "weights_AASIST = \"/AASIST_weights.pth\""
   ]
  },
  {
   "cell_type": "code",
   "execution_count": null,
   "id": "4b68a045",
   "metadata": {},
   "outputs": [],
   "source": [
    "explanations_1d_resnet(sample)\n",
    "explanations_2d_resnet(sample)\n",
    "explanations_aasist(sample)"
   ]
  },
  {
   "cell_type": "code",
   "execution_count": null,
   "id": "17a4c1e9",
   "metadata": {},
   "outputs": [],
   "source": [
    "file = 'spoof 2021/DF_E_3505877.flac'\n",
    "database_path = 'C:/Users/jeroe/OneDrive/Forensic science/0. Research project/survey/' + file\n",
    "sample, sr = sf.read(database_path)\n",
    "explanations_1d_resnet(sample)"
   ]
  },
  {
   "cell_type": "code",
   "execution_count": null,
   "id": "7e7c72d5",
   "metadata": {},
   "outputs": [],
   "source": [
    "file = 'spoof wavefake/LJ038-0045_generated'\n",
    "database_path = 'C:/Users/jeroe/OneDrive/Forensic science/0. Research project/survey/' + file\n",
    "sample, sr = sf.read(database_path)\n",
    "explanations_2d_resnet(sample)\n"
   ]
  },
  {
   "cell_type": "code",
   "execution_count": null,
   "id": "4cade9c8",
   "metadata": {},
   "outputs": [],
   "source": [
    "file = 'spoof 2021/DF_E_2599791'\n",
    "database_path = 'C:/Users/jeroe/OneDrive/Forensic science/0. Research project/survey/' + file\n",
    "sample, sr = sf.read(database_path)\n",
    "explanations_1d_resnet(sample)\n"
   ]
  },
  {
   "cell_type": "code",
   "execution_count": null,
   "id": "6db2cd37",
   "metadata": {},
   "outputs": [],
   "source": [
    "file = 'spoof 2019/LA_D_1110836.flac'\n",
    "database_path = 'C:/Users/jeroe/OneDrive/Forensic science/0. Research project/survey/' + file\n",
    "sample, sr = sf.read(database_path)\n",
    "explanations_aasist(sample)"
   ]
  },
  {
   "cell_type": "code",
   "execution_count": null,
   "id": "f3cd4f3c",
   "metadata": {},
   "outputs": [],
   "source": [
    "file = 'spoof wavefake/LJ039-0197_generated.flac'\n",
    "database_path = 'C:/Users/jeroe/OneDrive/Forensic science/0. Research project/survey/' + file\n",
    "sample, sr = sf.read(database_path)\n",
    "explanations_2d_resnet(sample)\n"
   ]
  },
  {
   "cell_type": "code",
   "execution_count": null,
   "id": "bc9c495f",
   "metadata": {},
   "outputs": [],
   "source": [
    "file = 'spoof 2019/LA_E_9801093.flac'\n",
    "database_path = 'C:/Users/jeroe/OneDrive/Forensic science/0. Research project/survey/' + file\n",
    "sample, sr = sf.read(database_path)\n",
    "explanations_2d_resnet(sample)\n"
   ]
  },
  {
   "cell_type": "code",
   "execution_count": null,
   "id": "ebdf73a0",
   "metadata": {},
   "outputs": [],
   "source": [
    "file = 'spoof wavefake/LJ041-0022_generated.flac'\n",
    "database_path = 'C:/Users/jeroe/OneDrive/Forensic science/0. Research project/survey/' + file\n",
    "sample, sr = sf.read(database_path)\n",
    "explanations_1d_resnet(sample)\n"
   ]
  },
  {
   "cell_type": "code",
   "execution_count": null,
   "id": "585bd0bd",
   "metadata": {},
   "outputs": [],
   "source": [
    "file = 'spoof 2021/DF_E_2400717.flac'\n",
    "database_path = 'C:/Users/jeroe/OneDrive/Forensic science/0. Research project/survey/' + file\n",
    "sample, sr = sf.read(database_path)\n",
    "explanations_aasist(sample)"
   ]
  },
  {
   "cell_type": "code",
   "execution_count": null,
   "id": "5f2695a6",
   "metadata": {},
   "outputs": [],
   "source": [
    "file = 'spoof 2021/DF_E_2622409.flac'\n",
    "database_path = 'C:/Users/jeroe/OneDrive/Forensic science/0. Research project/survey/' + file\n",
    "sample, sr = sf.read(database_path)\n",
    "explanations_1d_resnet(sample)\n"
   ]
  },
  {
   "cell_type": "code",
   "execution_count": null,
   "id": "799eec93",
   "metadata": {},
   "outputs": [],
   "source": [
    "file = 'spoof 2019/LA_E_1967069.flac'\n",
    "database_path = 'C:/Users/jeroe/OneDrive/Forensic science/0. Research project/survey/' + file\n",
    "sample, sr = sf.read(database_path)\n",
    "explanations_1d_resnet(sample)"
   ]
  },
  {
   "cell_type": "code",
   "execution_count": null,
   "id": "7fda26a5",
   "metadata": {},
   "outputs": [],
   "source": [
    "file = 'spoof wavefake/LJ027-0150_gen.flac'\n",
    "database_path = 'C:/Users/jeroe/OneDrive/Forensic science/0. Research project/survey/' + file\n",
    "sample, sr = sf.read(database_path)\n",
    "explanations_aasist(sample)"
   ]
  },
  {
   "cell_type": "code",
   "execution_count": null,
   "id": "b15fdb7e",
   "metadata": {},
   "outputs": [],
   "source": [
    "file = 'spoof 2021/DF_E_2934821.flac'\n",
    "database_path = 'C:/Users/jeroe/OneDrive/Forensic science/0. Research project/survey/' + file\n",
    "sample, sr = sf.read(database_path)\n",
    "explanations_aasist(sample)"
   ]
  },
  {
   "cell_type": "code",
   "execution_count": null,
   "id": "7e8b6d7d",
   "metadata": {},
   "outputs": [],
   "source": [
    "file = 'spoof 2021/DF_E_3244857.flac'\n",
    "database_path = 'C:/Users/jeroe/OneDrive/Forensic science/0. Research project/survey/' + file\n",
    "sample, sr = sf.read(database_path)\n",
    "explanations_aasist(sample)"
   ]
  },
  {
   "cell_type": "code",
   "execution_count": null,
   "id": "ca44c6aa",
   "metadata": {},
   "outputs": [],
   "source": [
    "file = 'spoof 2019/LA_E_9386658.flac'\n",
    "database_path = 'C:/Users/jeroe/OneDrive/Forensic science/0. Research project/survey/' + file\n",
    "sample, sr = sf.read(database_path)\n",
    "explanations_2d_resnet(sample)\n"
   ]
  },
  {
   "cell_type": "code",
   "execution_count": null,
   "id": "e331c523",
   "metadata": {},
   "outputs": [],
   "source": [
    "file = 'spoof 2019/LA_E_1967069.flac'\n",
    "database_path = 'C:/Users/jeroe/OneDrive/Forensic science/0. Research project/survey/' + file\n",
    "sample, sr = sf.read(database_path)\n",
    "explanations_1d_resnet(sample)\n"
   ]
  }
 ],
 "metadata": {
  "kernelspec": {
   "display_name": "Python 3 (ipykernel)",
   "language": "python",
   "name": "python3"
  },
  "language_info": {
   "codemirror_mode": {
    "name": "ipython",
    "version": 3
   },
   "file_extension": ".py",
   "mimetype": "text/x-python",
   "name": "python",
   "nbconvert_exporter": "python",
   "pygments_lexer": "ipython3",
   "version": "3.9.7"
  }
 },
 "nbformat": 4,
 "nbformat_minor": 5
}
